{
 "cells": [
  {
   "cell_type": "markdown",
   "metadata": {},
   "source": [
    "# Dealing with Missing Data - Lab\n",
    "\n",
    "## Introduction\n",
    "\n",
    "In this lab, we'll work through strategies for data cleaning and dealing with missing values (`NaN`s).\n",
    "\n",
    "## Objectives\n",
    "In this lab you will:\n",
    "\n",
    "- Identify missing values in a dataframe using built-in methods \n",
    "- Explain why missing values are a problem in data science \n",
    "\n",
    "## Dataset\n",
    "\n",
    "In this lab, we'll continue working with the _Titanic Survivors_ dataset, which can be found in `'titanic.csv'`.\n",
    "\n",
    "Before we can get going, we'll need to import the usual libraries.  In the cell below, import:\n",
    "* `pandas` as `pd`\n",
    "* `numpy` as `np`\n",
    "* `matplotlib.pyplot` as `plt`\n",
    "* set `%matplotlib inline`"
   ]
  },
  {
   "cell_type": "code",
   "execution_count": 2,
   "metadata": {},
   "outputs": [],
   "source": [
    "# Import necessary libraries below\n",
    "import pandas as pd\n",
    "import numpy as np\n",
    "import matplotlib.pyplot as plt\n",
    "%matplotlib inline"
   ]
  },
  {
   "cell_type": "markdown",
   "metadata": {},
   "source": [
    "Now, let's get started by reading in the data from the `'titanic.csv'` file and storing it the DataFrame `df`. Subsequently, be sure to preview the data."
   ]
  },
  {
   "cell_type": "code",
   "execution_count": 3,
   "metadata": {},
   "outputs": [],
   "source": [
    "# Use pandas to load the csv file\n",
    "df = pd.read_csv('titanic.csv')\n"
   ]
  },
  {
   "cell_type": "markdown",
   "metadata": {},
   "source": [
    "## Find missing values in a DataFrame\n",
    "\n",
    "Before we can deal with missing values, we first need to find them. There are several easy ways to detect them.  We will start by answering very general questions, such as \"does this DataFrame contain any null values?\", and then narrowing our focus each time the answer to a question is \"yes\".\n",
    "\n",
    "We'll start by checking to see if the DataFrame contains **any** missing values (NaNs) at all. \n",
    "\n",
    "**_Hint_**: If you do this correctly, it will require method chaining, and will return a boolean value for each column.  "
   ]
  },
  {
   "cell_type": "code",
   "execution_count": 9,
   "metadata": {},
   "outputs": [
    {
     "name": "stdout",
     "output_type": "stream",
     "text": [
      "<class 'pandas.core.frame.DataFrame'>\n",
      "RangeIndex: 891 entries, 0 to 890\n",
      "Data columns (total 13 columns):\n",
      " #   Column       Non-Null Count  Dtype  \n",
      "---  ------       --------------  -----  \n",
      " 0   Unnamed: 0   891 non-null    int64  \n",
      " 1   PassengerId  891 non-null    int64  \n",
      " 2   Survived     891 non-null    int64  \n",
      " 3   Pclass       891 non-null    object \n",
      " 4   Name         891 non-null    object \n",
      " 5   Sex          891 non-null    object \n",
      " 6   Age          714 non-null    float64\n",
      " 7   SibSp        891 non-null    int64  \n",
      " 8   Parch        891 non-null    int64  \n",
      " 9   Ticket       891 non-null    object \n",
      " 10  Fare         891 non-null    float64\n",
      " 11  Cabin        204 non-null    object \n",
      " 12  Embarked     889 non-null    object \n",
      "dtypes: float64(2), int64(5), object(6)\n",
      "memory usage: 90.6+ KB\n"
     ]
    }
   ],
   "source": [
    "# Your code here\n",
    "df.info()"
   ]
  },
  {
   "cell_type": "markdown",
   "metadata": {},
   "source": [
    "Now we know which columns contain missing values, but not how many. \n",
    "\n",
    "In the cell below, chain a different method with `isna()` to check how many total missing values are in each column.  \n",
    "\n",
    "Expected Output:\n",
    "\n",
    "```\n",
    "PassengerId      0\n",
    "Survived         0\n",
    "Pclass           0\n",
    "Name             0\n",
    "Sex              0\n",
    "Age            177\n",
    "SibSp            0\n",
    "Parch            0\n",
    "Ticket           0\n",
    "Fare             0\n",
    "Cabin          687\n",
    "Embarked         2\n",
    "dtype: int64\n",
    "```"
   ]
  },
  {
   "cell_type": "code",
   "execution_count": 11,
   "metadata": {},
   "outputs": [
    {
     "data": {
      "text/plain": [
       "Unnamed: 0       0\n",
       "PassengerId      0\n",
       "Survived         0\n",
       "Pclass           0\n",
       "Name             0\n",
       "Sex              0\n",
       "Age            177\n",
       "SibSp            0\n",
       "Parch            0\n",
       "Ticket           0\n",
       "Fare             0\n",
       "Cabin          687\n",
       "Embarked         2\n",
       "dtype: int64"
      ]
     },
     "execution_count": 11,
     "metadata": {},
     "output_type": "execute_result"
    }
   ],
   "source": [
    "# Your code here\n",
    "df.isna().sum()"
   ]
  },
  {
   "cell_type": "markdown",
   "metadata": {},
   "source": [
    "Now that we know how many missing values exist in each column, we can make some decisions about how to deal with them.  \n",
    "\n",
    "We'll deal with each column individually, and employ a different strategy for each.  \n",
    "\n",
    "\n",
    "### Dropping the column\n",
    "\n",
    "The first column we'll deal with is the `Cabin` column.  We'll begin by examining this column more closely. \n",
    "\n",
    "\n",
    "In the cell below:\n",
    "* Determine what percentage of rows in this column contain missing values\n",
    "* Print out the number of unique values in this column"
   ]
  },
  {
   "cell_type": "code",
   "execution_count": 18,
   "metadata": {},
   "outputs": [
    {
     "data": {
      "text/plain": [
       "148"
      ]
     },
     "execution_count": 18,
     "metadata": {},
     "output_type": "execute_result"
    }
   ],
   "source": [
    "# Your code here\n",
    "df['Cabin'].isna().sum()/(df['Cabin'].count() + df['Cabin'].isna().sum())\n",
    "len(df['Cabin'].unique())"
   ]
  },
  {
   "cell_type": "markdown",
   "metadata": {},
   "source": [
    "With this many missing values, it's probably best for us to just drop this column completely.\n",
    "\n",
    "In the cell below:\n",
    "\n",
    "* Drop the `Cabin` column in place from the `df` DataFrame\n",
    "* Then, check the remaining number of null values in the dataset by using the code you wrote previously   "
   ]
  },
  {
   "cell_type": "code",
   "execution_count": 25,
   "metadata": {},
   "outputs": [
    {
     "data": {
      "text/plain": [
       "Unnamed: 0       0\n",
       "PassengerId      0\n",
       "Survived         0\n",
       "Pclass           0\n",
       "Name             0\n",
       "Sex              0\n",
       "Age            177\n",
       "SibSp            0\n",
       "Parch            0\n",
       "Ticket           0\n",
       "Fare             0\n",
       "Embarked         2\n",
       "dtype: int64"
      ]
     },
     "execution_count": 25,
     "metadata": {},
     "output_type": "execute_result"
    }
   ],
   "source": [
    "# Your code here\n",
    "#df.drop(df['Cabin'], axis=1, inplace = True)\n",
    "df.isna().sum()"
   ]
  },
  {
   "cell_type": "markdown",
   "metadata": {},
   "source": [
    "### Computing placeholder values\n",
    "\n",
    "Recall that another common strategy for dealing with missing values is to replace them with the mean or median for that column. We'll begin by investigating the current version of the `'Age'` column.  \n",
    "\n",
    "In the cell below:\n",
    "\n",
    "* Plot a histogram of values in the `'Age'` column with 80 bins (1 for each year)    \n",
    "* Print out the mean and median for the column   "
   ]
  },
  {
   "cell_type": "code",
   "execution_count": null,
   "metadata": {},
   "outputs": [],
   "source": [
    "# Your code here\n"
   ]
  },
  {
   "cell_type": "markdown",
   "metadata": {},
   "source": [
    "From the visualization above, we can see the data has a slightly positive skew. \n",
    "\n",
    "In the cell below, replace all missing values in the `'Age'` column with the median of the column.  **Do not hard code this value -- use the methods from pandas or numpy to make this easier.**  Do this replacement in place on the DataFrame. "
   ]
  },
  {
   "cell_type": "code",
   "execution_count": null,
   "metadata": {},
   "outputs": [],
   "source": [
    "# Your code here\n"
   ]
  },
  {
   "cell_type": "markdown",
   "metadata": {},
   "source": [
    "Now that we've replaced the values in the `'Age'` column, let's confirm that they've been replaced.  \n",
    "\n",
    "In the cell below, check how many null values remain in the dataset.  "
   ]
  },
  {
   "cell_type": "code",
   "execution_count": null,
   "metadata": {},
   "outputs": [],
   "source": [
    "# Your code here\n"
   ]
  },
  {
   "cell_type": "markdown",
   "metadata": {},
   "source": [
    "Now we need to deal with the two pesky missing values in the `'Embarked'` column.  \n",
    "\n",
    "### Dropping rows that contain missing values\n",
    "\n",
    "Perhaps the most common solution to dealing with missing values is to simply drop any rows that contain them.  Of course, this is only a good idea if the number dropped does not constitute a significant portion of our dataset.  Often, you'll need to make the overall determination to see if dropping the values is an acceptable loss, or if it is a better idea to just drop an offending column (e.g. the `'Cabin'` column) or to impute placeholder values instead.\n",
    "\n",
    "In the cell below, use the appropriate built-in DataFrame method to drop the rows containing missing values. Do this in place on the DataFrame.  "
   ]
  },
  {
   "cell_type": "code",
   "execution_count": 27,
   "metadata": {},
   "outputs": [
    {
     "data": {
      "text/plain": [
       "Unnamed: 0     0\n",
       "PassengerId    0\n",
       "Survived       0\n",
       "Pclass         0\n",
       "Name           0\n",
       "Sex            0\n",
       "Age            0\n",
       "SibSp          0\n",
       "Parch          0\n",
       "Ticket         0\n",
       "Fare           0\n",
       "Embarked       0\n",
       "dtype: int64"
      ]
     },
     "execution_count": 27,
     "metadata": {},
     "output_type": "execute_result"
    }
   ],
   "source": [
    "# Your code here\n",
    "df.dropna(inplace = True)\n",
    "df.isna().sum()"
   ]
  },
  {
   "cell_type": "markdown",
   "metadata": {},
   "source": [
    "We've dealt with all the **_obvious_** missing values, but we should also take some time to make sure that there aren't symbols or numbers included that are meant to denote a missing value. \n",
    "\n",
    "### Missing values with placeholders\n",
    "\n",
    "A common thing to see when working with datasets is missing values denoted with a preassigned code or symbol.  Let's check to ensure that each categorical column contains only what we expect.\n",
    "\n",
    "In the cell below, return the unique values in the `'Embarked'`, `'Sex'`, `'Pclass'`, and `'Survived'` columns to ensure that there are no values in there that we don't understand or can't account for.  "
   ]
  },
  {
   "cell_type": "code",
   "execution_count": 31,
   "metadata": {},
   "outputs": [
    {
     "name": "stdout",
     "output_type": "stream",
     "text": [
      "['S' 'C' 'Q']\n",
      "['male' 'female']\n",
      "['3' '1' '2' '?']\n",
      "[0 1]\n"
     ]
    }
   ],
   "source": [
    "# Your code here\n",
    "print(df['Embarked'].unique())\n",
    "print(df['Sex'].unique())\n",
    "print(df['Pclass'].unique())\n",
    "print(df['Survived'].unique())"
   ]
  },
  {
   "cell_type": "markdown",
   "metadata": {},
   "source": [
    "It looks like the `'Pclass'` column contains some missing values denoted by a placeholder. \n",
    "\n",
    "In the cell below, investigate how many placeholder values this column contains.  Then, deal with these missing values using whichever strategy you believe is most appropriate in this case.  "
   ]
  },
  {
   "cell_type": "code",
   "execution_count": 32,
   "metadata": {},
   "outputs": [
    {
     "data": {
      "text/plain": [
       "Pclass\n",
       "3    341\n",
       "1    173\n",
       "2    162\n",
       "?     36\n",
       "Name: count, dtype: int64"
      ]
     },
     "execution_count": 32,
     "metadata": {},
     "output_type": "execute_result"
    }
   ],
   "source": [
    "# Your code here\n",
    "df['Pclass'].value_counts()"
   ]
  },
  {
   "cell_type": "code",
   "execution_count": 35,
   "metadata": {},
   "outputs": [
    {
     "data": {
      "text/plain": [
       "Pclass\n",
       "3    341\n",
       "1    173\n",
       "2    162\n",
       "0     36\n",
       "Name: count, dtype: int64"
      ]
     },
     "execution_count": 35,
     "metadata": {},
     "output_type": "execute_result"
    }
   ],
   "source": [
    "# Your code here\n",
    "df['Pclass'].replace('?',0, inplace = True)\n",
    "df['Pclass'].value_counts()"
   ]
  },
  {
   "cell_type": "markdown",
   "metadata": {},
   "source": [
    "**_Question:_** What is the benefit of treating missing values as a separate valid category?  What is the benefit of removing or replacing them? What are the drawbacks of each? Finally, which strategy did you choose? Explain your choice below. \n",
    "\n",
    "Write your answer below this line:\n",
    "______________________________________________________________________________________________________"
   ]
  },
  {
   "cell_type": "code",
   "execution_count": null,
   "metadata": {},
   "outputs": [],
   "source": [
    "#the benefit of treating missing values as a separate valid category allows us to formualte which strategy we should use. \n",
    "#The benefit of removing or replacing them enables us to create a more accurate reprresentation of the data\n",
    "#Removing or replacing the data may skew our data in way that may not be ideal\n",
    "#I chose to replace tje ? with 0 to serve as a placeholder"
   ]
  },
  {
   "cell_type": "markdown",
   "metadata": {},
   "source": [
    "<details>\n",
    "    <summary style=\"cursor: pointer; display: inline\">\n",
    "        <b><u>Solution (click to reveal)</u></b>\n",
    "    </summary>\n",
    "    <p>Sample response:\n",
    "\n",
    "By treating missing values as a separate category, information is preserved. \n",
    "Perhaps there is a reason that this information is missing. \n",
    "By removing or replacing missing information, we can more easily conduct mathematical analyses which require values for computation. \n",
    "I chose to randomly replace for now. I could have just as easily removed the data. \n",
    "Concerns include that I imputed the wrong value (indeed it was a random guess). \n",
    "The strategy for dealing with missing data will depend on our desired application, \n",
    "but regardless of the approach taken, the ramifications of how missing data are handled must be considered. \n",
    "For example, imputing the median of our age reduces variance \n",
    "and assumes that a new value would be close to the center of the distribution \n",
    "(albeit this assumption is statistically likely).</p>\n",
    "</details>"
   ]
  },
  {
   "cell_type": "markdown",
   "metadata": {},
   "source": [
    "Now, let's do a final check to ensure that there are no more missing values remaining in this dataset.  \n",
    "\n",
    "In the cell below, reuse the code you wrote at the beginning of the notebook to check how many null values our dataset now contains.  "
   ]
  },
  {
   "cell_type": "code",
   "execution_count": 36,
   "metadata": {},
   "outputs": [
    {
     "data": {
      "text/plain": [
       "Unnamed: 0     0\n",
       "PassengerId    0\n",
       "Survived       0\n",
       "Pclass         0\n",
       "Name           0\n",
       "Sex            0\n",
       "Age            0\n",
       "SibSp          0\n",
       "Parch          0\n",
       "Ticket         0\n",
       "Fare           0\n",
       "Embarked       0\n",
       "dtype: int64"
      ]
     },
     "execution_count": 36,
     "metadata": {},
     "output_type": "execute_result"
    }
   ],
   "source": [
    "# Your code here\n",
    "df.isna().sum()"
   ]
  },
  {
   "cell_type": "markdown",
   "metadata": {},
   "source": [
    "Those all seem in line with our expectations.  We can confidently say that this dataset contains no pesky missing values that will mess up our analysis if we continue with this dataset."
   ]
  },
  {
   "cell_type": "markdown",
   "metadata": {},
   "source": [
    "## Summary\n",
    "\n",
    "In this lab, we learned:\n",
    "* How to detect missing values in our dataset\n",
    "* How to deal with missing values by dropping rows\n",
    "* How to deal with missing values by imputing mean/median values \n",
    "* Strategies for detecting missing values encoded with a placeholder"
   ]
  }
 ],
 "metadata": {
  "kernelspec": {
   "display_name": "Python 3 (ipykernel)",
   "language": "python",
   "name": "python3"
  },
  "language_info": {
   "codemirror_mode": {
    "name": "ipython",
    "version": 3
   },
   "file_extension": ".py",
   "mimetype": "text/x-python",
   "name": "python",
   "nbconvert_exporter": "python",
   "pygments_lexer": "ipython3",
   "version": "3.11.7"
  }
 },
 "nbformat": 4,
 "nbformat_minor": 4
}
